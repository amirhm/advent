{
 "cells": [
  {
   "cell_type": "code",
   "execution_count": null,
   "id": "15a49d9f",
   "metadata": {},
   "outputs": [],
   "source": [
    "import numpy as np"
   ]
  },
  {
   "cell_type": "code",
   "execution_count": null,
   "id": "683f6dab",
   "metadata": {},
   "outputs": [],
   "source": [
    "data = \"\"\"5421451741\n",
    "3877321568\n",
    "7583273864\n",
    "3451717778\n",
    "2651615156\n",
    "6377167526\n",
    "5182852831\n",
    "4766856676\n",
    "3437187583\n",
    "3633371586\"\"\""
   ]
  },
  {
   "cell_type": "code",
   "execution_count": null,
   "id": "d34c6df3",
   "metadata": {},
   "outputs": [],
   "source": [
    "data = np.array([[int(d) for d in line] for line in data.split('\\n')])"
   ]
  },
  {
   "cell_type": "code",
   "execution_count": null,
   "id": "b51f6bd0",
   "metadata": {},
   "outputs": [],
   "source": [
    "# Part 1"
   ]
  },
  {
   "cell_type": "code",
   "execution_count": null,
   "id": "d5bfde5c",
   "metadata": {},
   "outputs": [],
   "source": [
    "class cave:\n",
    "    def __init__(self, init):\n",
    "        self.init = init\n",
    "        self.state = self.init\n",
    "        self.ev_cnt = 0\n",
    "        self.r, self.col = self.init.shape\n",
    "\n",
    "    def check_for_light(self):\n",
    "        xidx , yidx = np.where(self.state >= 10)\n",
    "        xd = (xidx + np.array([-1,-1,-1, 0, 0, 1, 1, 1])[:,None]).flatten()\n",
    "        yd = (yidx + np.array([-1, 0, 1,-1, 1,-1, 0, 1])[:,None]).flatten()\n",
    "        idx = (xd >= 0) & (xd < self.r) & (yd >= 0) & (yd < self.col)\n",
    "        self.state[xidx, yidx]  = 0\n",
    "        self.mask[xidx, yidx]  = 0\n",
    "        for val in zip(xd[idx], yd[idx]):\n",
    "            self.state[val[0], val[1]] += 1\n",
    "\n",
    "        self.state = self.state * self.mask \n",
    "\n",
    "        return len(xidx)\n",
    "        \n",
    "    def evolve(self):\n",
    "        self.state = self.state + 1\n",
    "        self.mask = np.ones_like(self.state)\n",
    "        flag = self.check_for_light()\n",
    "        while flag:\n",
    "            flag = self.check_for_light()\n",
    "\n",
    "        self.ev_cnt += 1\n",
    "        return (self.state == 0).sum()"
   ]
  },
  {
   "cell_type": "code",
   "execution_count": null,
   "id": "9407e286",
   "metadata": {},
   "outputs": [],
   "source": [
    "ex1 = cave(data)\n",
    "num = [ex1.evolve() for i in range(100)]\n"
   ]
  },
  {
   "cell_type": "code",
   "execution_count": null,
   "id": "def2ac22",
   "metadata": {},
   "outputs": [],
   "source": [
    "print(sum(num))"
   ]
  },
  {
   "cell_type": "code",
   "execution_count": null,
   "id": "6200f449",
   "metadata": {},
   "outputs": [],
   "source": [
    "# Part 2"
   ]
  },
  {
   "cell_type": "code",
   "execution_count": null,
   "id": "0445db68",
   "metadata": {
    "scrolled": true
   },
   "outputs": [],
   "source": [
    "ex = cave(data)\n",
    "idx = 0\n",
    "while ex.evolve() != 100:\n",
    "    idx += 1"
   ]
  },
  {
   "cell_type": "code",
   "execution_count": null,
   "id": "f0c77ed3",
   "metadata": {},
   "outputs": [],
   "source": [
    "print(ex.ev_cnt)"
   ]
  },
  {
   "cell_type": "code",
   "execution_count": null,
   "id": "f9ca0b78",
   "metadata": {},
   "outputs": [],
   "source": []
  }
 ],
 "metadata": {
  "kernelspec": {
   "display_name": "Python 3",
   "language": "python",
   "name": "python3"
  },
  "language_info": {
   "codemirror_mode": {
    "name": "ipython",
    "version": 3
   },
   "file_extension": ".py",
   "mimetype": "text/x-python",
   "name": "python",
   "nbconvert_exporter": "python",
   "pygments_lexer": "ipython3",
   "version": "3.8.7"
  }
 },
 "nbformat": 4,
 "nbformat_minor": 5
}
