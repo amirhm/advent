{
 "cells": [
  {
   "cell_type": "code",
   "execution_count": null,
   "metadata": {},
   "outputs": [],
   "source": [
    "target0 = [range(20, 30 + 1), range(-10, -5 + 1)]"
   ]
  },
  {
   "cell_type": "markdown",
   "metadata": {},
   "source": [
    "# Part1 "
   ]
  },
  {
   "cell_type": "code",
   "execution_count": null,
   "metadata": {},
   "outputs": [],
   "source": [
    "def path(v , target):\n",
    "    point = [0,0]\n",
    "    path = []\n",
    "    path.append(point.copy())\n",
    "    while True:\n",
    "        point[0] = point[0] + v[0]\n",
    "        point[1] = point[1] + v[1]\n",
    "        if v[0] > 0:\n",
    "            v[0] = v[0] - 1\n",
    "        elif v[0] < 0:\n",
    "            v[0] = v[0] + 1\n",
    "        v[1] = v[1] - 1\n",
    "        path.append(point.copy())\n",
    "        \n",
    "        if (point[0] in target[0]) and (point[1] in target[1]):\n",
    "            return max(map(lambda x: x[1], path))#(True , path)\n",
    "        if (point[0] > target[0].stop) or (point[1] < target[1].start):\n",
    "            return -1\n",
    "        if (v[0] == 0) and (point[0] not in target[0]):\n",
    "            return -1"
   ]
  },
  {
   "cell_type": "code",
   "execution_count": null,
   "metadata": {},
   "outputs": [],
   "source": [
    "def findpath(target):\n",
    "    vx = range(0, target[0].stop)\n",
    "    vy = range(target[1].start, - target[1].start)\n",
    "    solutions = []\n",
    "    for vxi in vx:\n",
    "        for vyi in vy:\n",
    "            height = path([vxi, vyi], target)\n",
    "            if height >= 0:\n",
    "                solutions.append((height, vxi, vyi))\n",
    "    return solutions"
   ]
  },
  {
   "cell_type": "code",
   "execution_count": null,
   "metadata": {},
   "outputs": [],
   "source": [
    "solutions = findpath(target0)"
   ]
  },
  {
   "cell_type": "code",
   "execution_count": null,
   "metadata": {},
   "outputs": [],
   "source": [
    "max(map(lambda x: x[0], solutions))"
   ]
  },
  {
   "cell_type": "markdown",
   "metadata": {},
   "source": [
    "# Part 2"
   ]
  },
  {
   "cell_type": "code",
   "execution_count": null,
   "metadata": {},
   "outputs": [],
   "source": [
    "len(solutions)"
   ]
  },
  {
   "cell_type": "code",
   "execution_count": null,
   "metadata": {},
   "outputs": [],
   "source": []
  }
 ],
 "metadata": {
  "kernelspec": {
   "display_name": "Python 3 (ipykernel)",
   "language": "python",
   "name": "python3"
  },
  "language_info": {
   "codemirror_mode": {
    "name": "ipython",
    "version": 3
   },
   "file_extension": ".py",
   "mimetype": "text/x-python",
   "name": "python",
   "nbconvert_exporter": "python",
   "pygments_lexer": "ipython3",
   "version": "3.8.10"
  }
 },
 "nbformat": 4,
 "nbformat_minor": 2
}
