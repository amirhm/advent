{
 "cells": [
  {
   "cell_type": "code",
   "execution_count": 1,
   "metadata": {},
   "outputs": [],
   "source": [
    "org = \"420D598021E0084A07C98EC91DCAE0B880287912A925799429825980593D7DCD400820329480BF21003CC0086028910097520230C80813401D8CC00F601881805705003CC00E200E98400F50031801D160048E5AFEFD5E5C02B93F2F4C11CADBBB799CB294C5FDB8E12C40139B7C98AFA8B2600DCBAF4D3A4C27CB54EA6F5390B1004B93E2F40097CA2ECF70C1001F296EF9A647F5BFC48C012C0090E675DF644A675DF645A7E6FE600BE004872B1B4AAB5273ED601D2CD240145F802F2CFD31EFBD4D64DD802738333992F9FFE69CAF088C010E0040A5CC65CD25774830A80372F9D78FA4F56CB6CDDC148034E9B8D2F189FD002AF3918AECD23100953600900021D1863142400043214C668CB31F073005A6E467600BCB1F4B1D2805930092F99C69C6292409CE6C4A4F530F100365E8CC600ACCDB75F8A50025F2361C9D248EF25B662014870035600042A1DC77890200D41086B0FE4E918D82CC015C00DCC0010F8FF112358002150DE194529E9F7B9EE064C015B005C401B8470F60C080371460CC469BA7091802F39BE6252858720AC2098B596D40208A53CBF3594092FF7B41B3004A5DB25C864A37EF82C401C9BCFE94B7EBE2D961892E0C1006A32C4160094CDF53E1E4CDF53E1D8005FD3B8B7642D3B4EB9C4D819194C0159F1ED00526B38ACF6D73915F3005EC0179C359E129EFDEFEEF1950005988E001C9C799ABCE39588BB2DA86EB9ACA22840191C8DFBE1DC005EE55167EFF89510010B322925A7F85A40194680252885238D7374C457A6830C012965AE00D4C40188B306E3580021319239C2298C4ED288A1802B1AF001A298FD53E63F54B7004A68B25A94BEBAAA00276980330CE0942620042E3944289A600DC388351BDC00C9DCDCFC8050E00043E2AC788EE200EC2088919C0010A82F0922710040F289B28E524632AE0\""
   ]
  },
  {
   "cell_type": "code",
   "execution_count": 34,
   "metadata": {},
   "outputs": [],
   "source": [
    "def decode_packet(txt, packets, idx ):\n",
    "    ver = int(txt[idx: idx + 3], 2)\n",
    "    typ = int(txt[idx + 3: idx + 6], 2)\n",
    "    idx += 6\n",
    "    if (typ == 4):\n",
    "        data = []\n",
    "        cont = True\n",
    "        while txt[idx] == '1':\n",
    "            data.append(txt[idx + 1: idx + 5])\n",
    "            idx += 5\n",
    "\n",
    "        data.append(txt[idx + 1: idx + 5])\n",
    "        idx += 5\n",
    "\n",
    "        packets.append({'typ': typ,'ver':ver, 'value': int(\"\".join(data),2)})\n",
    "        return idx         \n",
    "            \n",
    "    else:\n",
    "        len_id = txt[idx]\n",
    "        idx += 1\n",
    "        pc = []\n",
    "        if(len_id == '0'):\n",
    "            total_len = int(txt[idx: idx + 15], 2)\n",
    "            idx += 15\n",
    "            target = idx + total_len\n",
    "            while idx < target:\n",
    "                idx = decode_packet(txt , pc, idx )\n",
    "                \n",
    "            packets.append({'typ':typ, 'ver':ver, 'sub': pc.copy()})\n",
    "        else:\n",
    "            num_sub = int(txt[idx: idx + 11], 2)\n",
    "            idx += 11\n",
    "            for j in range(num_sub):\n",
    "                idx = decode_packet(txt, pc, idx)\n",
    "\n",
    "            packets.append({'typ':typ, 'ver':ver, 'sub': pc.copy()})\n",
    "\n",
    "        return idx \n",
    "        "
   ]
  },
  {
   "cell_type": "code",
   "execution_count": 35,
   "metadata": {},
   "outputs": [
    {
     "data": {
      "text/plain": [
       "5380"
      ]
     },
     "execution_count": 35,
     "metadata": {},
     "output_type": "execute_result"
    }
   ],
   "source": [
    "s = org\n",
    "txt = \"\".join([f\"{int(si, 16):04b}\" for si in s])\n",
    "p = []\n",
    "decode_packet(txt,p,0)"
   ]
  },
  {
   "cell_type": "code",
   "execution_count": 89,
   "metadata": {},
   "outputs": [],
   "source": [
    "def count_versions(p):\n",
    "    versions = 0\n",
    "    def dfs(node):\n",
    "        nonlocal versions\n",
    "        if not node:\n",
    "            return\n",
    "        versions += node['ver']\n",
    "        if 'sub' in node:\n",
    "            for n in node['sub']:\n",
    "                dfs(n)\n",
    "    dfs(p[0])\n",
    "    return versions\n",
    "        "
   ]
  },
  {
   "cell_type": "code",
   "execution_count": 90,
   "metadata": {},
   "outputs": [
    {
     "name": "stdout",
     "output_type": "stream",
     "text": [
      "991\n"
     ]
    }
   ],
   "source": [
    "print(count_versions(p))"
   ]
  },
  {
   "cell_type": "code",
   "execution_count": 91,
   "metadata": {},
   "outputs": [],
   "source": [
    "import functools\n",
    "\n",
    "def calculate(p):\n",
    "    def dfs(node):\n",
    "        if not node:\n",
    "            return\n",
    "        tp = node['typ']\n",
    "        if tp == 4:\n",
    "            return node['value']\n",
    "        if 'sub' in node:\n",
    "            values= [dfs(n) for n in node['sub']]\n",
    "            if tp == 0:\n",
    "                return sum(values)\n",
    "            elif tp == 1:\n",
    "                return functools.reduce(lambda a, b: a * b, values)\n",
    "            elif tp == 2:\n",
    "                return min(values)\n",
    "            elif tp == 3:\n",
    "                return max(values)\n",
    "            elif tp == 5:\n",
    "                return 1 if values[0] > values[1] else 0\n",
    "            elif tp == 6:\n",
    "                return 1 if values[0] < values[1] else 0\n",
    "            elif tp == 7:\n",
    "                return 1 if values[0] == values[1] else 0\n",
    "    return dfs(p[0])"
   ]
  },
  {
   "cell_type": "code",
   "execution_count": 92,
   "metadata": {},
   "outputs": [],
   "source": [
    "test = [\n",
    "(\"C200B40A82\" , 3),\n",
    "(\"04005AC33890\" , 54),\n",
    "(\"880086C3E88112\" , 7),\n",
    "(\"CE00C43D881120\" , 9),\n",
    "(\"D8005AC2A8F0\" , 1),\n",
    "(\"F600BC2D8F\", 0),\n",
    "(\"9C005AC2F8F0\" , 0),\n",
    "(\"9C0141080250320F1802104A08\", 1)\n",
    "]"
   ]
  },
  {
   "cell_type": "code",
   "execution_count": 93,
   "metadata": {},
   "outputs": [],
   "source": [
    "for s, target in test:\n",
    "    txt = \"\".join([f\"{int(si, 16):04b}\" for si in s])\n",
    "    p = []\n",
    "    decode_packet(txt,p,0)\n",
    "    assert calculate(p) == target"
   ]
  },
  {
   "cell_type": "code",
   "execution_count": 94,
   "metadata": {},
   "outputs": [
    {
     "data": {
      "text/plain": [
       "5380"
      ]
     },
     "execution_count": 94,
     "metadata": {},
     "output_type": "execute_result"
    }
   ],
   "source": [
    "s = org\n",
    "txt = \"\".join([f\"{int(si, 16):04b}\" for si in s])\n",
    "p = []\n",
    "decode_packet(txt,p , 0)"
   ]
  },
  {
   "cell_type": "code",
   "execution_count": 70,
   "metadata": {},
   "outputs": [
    {
     "name": "stdout",
     "output_type": "stream",
     "text": [
      "991\n"
     ]
    }
   ],
   "source": [
    "count_versions(p)"
   ]
  },
  {
   "cell_type": "code",
   "execution_count": 71,
   "metadata": {},
   "outputs": [
    {
     "data": {
      "text/plain": [
       "1264485568252"
      ]
     },
     "execution_count": 71,
     "metadata": {},
     "output_type": "execute_result"
    }
   ],
   "source": [
    "calculate(p)"
   ]
  },
  {
   "cell_type": "code",
   "execution_count": null,
   "metadata": {},
   "outputs": [],
   "source": []
  }
 ],
 "metadata": {
  "kernelspec": {
   "display_name": "Python 3",
   "language": "python",
   "name": "python3"
  },
  "language_info": {
   "codemirror_mode": {
    "name": "ipython",
    "version": 3
   },
   "file_extension": ".py",
   "mimetype": "text/x-python",
   "name": "python",
   "nbconvert_exporter": "python",
   "pygments_lexer": "ipython3",
   "version": "3.8.6"
  }
 },
 "nbformat": 4,
 "nbformat_minor": 4
}
