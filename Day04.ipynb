{
 "cells": [
  {
   "cell_type": "code",
   "execution_count": null,
   "id": "dee5ab4f",
   "metadata": {},
   "outputs": [],
   "source": [
    "import numpy as np\n",
    "from matplotlib import pyplot as plt"
   ]
  },
  {
   "cell_type": "code",
   "execution_count": null,
   "id": "f1aaf6e9",
   "metadata": {},
   "outputs": [],
   "source": [
    "## Read data from file"
   ]
  },
  {
   "cell_type": "code",
   "execution_count": null,
   "id": "7f102073",
   "metadata": {},
   "outputs": [],
   "source": [
    "#with open(\"data.txt\", \"r\") as fid:\n",
    "#    hdr = fid.readline()\n",
    "#    data = fid.read()"
   ]
  },
  {
   "cell_type": "markdown",
   "id": "489f9f09",
   "metadata": {},
   "source": [
    "Or just the test data"
   ]
  },
  {
   "cell_type": "code",
   "execution_count": null,
   "id": "e8f8e036",
   "metadata": {},
   "outputs": [],
   "source": [
    "hdr=\"7,4,9,5,11,17,23,2,0,14,21,24,10,16,13,6,15,25,12,22,18,20,8,19,3,26,1\"\n",
    "data=\"\"\"22 13 17 11  0\n",
    " 8  2 23  4 24\n",
    "21  9 14 16  7\n",
    " 6 10  3 18  5\n",
    " 1 12 20 15 19\n",
    "\n",
    " 3 15  0  2 22\n",
    " 9 18 13 17  5\n",
    "19  8  7 25 23\n",
    "20 11 10 24  4\n",
    "14 21 16 12  6\n",
    "\n",
    "14 21 17 24  4\n",
    "10 16 15  9 19\n",
    "18  8 23 26 20\n",
    "22 11 13  6  5\n",
    " 2  0 12  3  7\"\"\""
   ]
  },
  {
   "cell_type": "code",
   "execution_count": null,
   "id": "cbeb1f05",
   "metadata": {},
   "outputs": [],
   "source": [
    "numbers = list(map(int,hdr.split(',')))\n",
    "data = np.array(list(map(int,data.split()))).reshape((-1, 5, 5))"
   ]
  },
  {
   "cell_type": "markdown",
   "id": "a833bd98",
   "metadata": {},
   "source": [
    "### Part 1"
   ]
  },
  {
   "cell_type": "code",
   "execution_count": null,
   "id": "b12bcd18",
   "metadata": {},
   "outputs": [],
   "source": [
    "mask = np.zeros_like(data)\n",
    "nc , nr = data.shape[1:]\n",
    "\n",
    "for val in numbers:\n",
    "    mask |= data == val\n",
    "    row = mask.sum(axis=-1)\n",
    "    col = mask.sum(axis=-2)\n",
    "    idx = np.unique(np.where((row == nr) | (col == nc))[0])\n",
    "    if(len(idx) > 0):\n",
    "        print(data[idx][mask[idx] == 0].sum() * val)\n",
    "        break"
   ]
  },
  {
   "cell_type": "markdown",
   "id": "99d81214",
   "metadata": {},
   "source": [
    "### Part 2"
   ]
  },
  {
   "cell_type": "code",
   "execution_count": null,
   "id": "882fe02b",
   "metadata": {},
   "outputs": [],
   "source": [
    "mask = np.zeros_like(data)\n",
    "nc , nr = data.shape[1:]\n",
    "for val in numbers:\n",
    "    mask |= data == val\n",
    "    row = mask.sum(axis=-1)\n",
    "    col = mask.sum(axis=-2)\n",
    "    cnt = np.unique(np.where((row == nr) | (col == nc))[0])\n",
    "    if len(cnt) == data.shape[0]:\n",
    "        lv = set(cnt) - lset\n",
    "        idx = lv.pop()\n",
    "        print(data[idx][mask[idx] == 0].sum() * val)\n",
    "        break\n",
    "    lset = set(cnt)"
   ]
  },
  {
   "cell_type": "code",
   "execution_count": null,
   "id": "c8e8da31",
   "metadata": {},
   "outputs": [],
   "source": []
  }
 ],
 "metadata": {
  "kernelspec": {
   "display_name": "Python 3 (ipykernel)",
   "language": "python",
   "name": "python3"
  },
  "language_info": {
   "codemirror_mode": {
    "name": "ipython",
    "version": 3
   },
   "file_extension": ".py",
   "mimetype": "text/x-python",
   "name": "python",
   "nbconvert_exporter": "python",
   "pygments_lexer": "ipython3",
   "version": "3.8.10"
  }
 },
 "nbformat": 4,
 "nbformat_minor": 5
}
