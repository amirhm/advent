{
 "cells": [
  {
   "cell_type": "code",
   "execution_count": null,
   "id": "c3c84fa7",
   "metadata": {},
   "outputs": [],
   "source": [
    "import functools"
   ]
  },
  {
   "cell_type": "code",
   "execution_count": null,
   "id": "cf3e6494",
   "metadata": {},
   "outputs": [],
   "source": [
    "num = list(map(int, \"3,4,3,1,2\".split(',')))"
   ]
  },
  {
   "cell_type": "code",
   "execution_count": null,
   "id": "a58cd01a",
   "metadata": {},
   "outputs": [],
   "source": [
    "@functools.lru_cache(256)\n",
    "def node(init, ndays):\n",
    "    if ndays > init:\n",
    "        ndays = ndays - init\n",
    "    else:\n",
    "        return 0\n",
    "    \n",
    "    nc = (ndays // 7) + (((ndays % 7) > 0) * 1)\n",
    "    for i in range(nc):\n",
    "        nc += node(9, ndays - (i * 7))\n",
    "    return nc"
   ]
  },
  {
   "cell_type": "code",
   "execution_count": null,
   "id": "d07e7b77",
   "metadata": {},
   "outputs": [],
   "source": [
    "nc = 0\n",
    "nd = 256\n",
    "for v in num:\n",
    "    nc += node(v, nd) + 1\n",
    "print(nc)"
   ]
  },
  {
   "cell_type": "code",
   "execution_count": null,
   "id": "5b3cff6b",
   "metadata": {},
   "outputs": [],
   "source": []
  }
 ],
 "metadata": {
  "kernelspec": {
   "display_name": "Python 3 (ipykernel)",
   "language": "python",
   "name": "python3"
  },
  "language_info": {
   "codemirror_mode": {
    "name": "ipython",
    "version": 3
   },
   "file_extension": ".py",
   "mimetype": "text/x-python",
   "name": "python",
   "nbconvert_exporter": "python",
   "pygments_lexer": "ipython3",
   "version": "3.8.10"
  }
 },
 "nbformat": 4,
 "nbformat_minor": 5
}
