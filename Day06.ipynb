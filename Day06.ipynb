{
 "cells": [
  {
   "cell_type": "code",
   "execution_count": null,
   "id": "49a07aed",
   "metadata": {},
   "outputs": [],
   "source": [
    "import functools\n",
    "import numpy as np"
   ]
  },
  {
   "cell_type": "code",
   "execution_count": null,
   "id": "46a70028",
   "metadata": {},
   "outputs": [],
   "source": [
    "txt = \"3,4,3,1,2\""
   ]
  },
  {
   "cell_type": "code",
   "execution_count": null,
   "id": "bd472fd6",
   "metadata": {},
   "outputs": [],
   "source": [
    "num = list(map(int, txt.split(',')))"
   ]
  },
  {
   "cell_type": "code",
   "execution_count": null,
   "id": "59c4233b",
   "metadata": {},
   "outputs": [],
   "source": [
    "@functools.lru_cache(256)\n",
    "def node(init, ndays):\n",
    "    if ndays > init:\n",
    "        ndays = ndays - init\n",
    "    else:\n",
    "        return 0\n",
    "    \n",
    "    nc = (ndays // 7) + (((ndays % 7) > 0) * 1)\n",
    "    for i in range(nc):\n",
    "        nc += node(9, ndays - (i * 7))\n",
    "    return nc"
   ]
  },
  {
   "cell_type": "code",
   "execution_count": null,
   "id": "96acce67",
   "metadata": {},
   "outputs": [],
   "source": [
    "def count_fish(nd):\n",
    "    unique, counts = np.unique(num, return_counts=True)\n",
    "    values = [(node(v, nd) + 1) * c for v , c in zip(unique, counts)]\n",
    "    return sum(values)"
   ]
  },
  {
   "cell_type": "markdown",
   "id": "cd6437ae",
   "metadata": {},
   "source": [
    "## Part 1"
   ]
  },
  {
   "cell_type": "code",
   "execution_count": null,
   "id": "0e81ca28",
   "metadata": {},
   "outputs": [],
   "source": [
    "print(count_fish(80))"
   ]
  },
  {
   "cell_type": "markdown",
   "id": "4c20b22c",
   "metadata": {},
   "source": [
    "## Part 2"
   ]
  },
  {
   "cell_type": "code",
   "execution_count": null,
   "id": "b57f11b0",
   "metadata": {},
   "outputs": [],
   "source": [
    "print(count_fish(256))"
   ]
  }
 ],
 "metadata": {
  "kernelspec": {
   "display_name": "Python 3 (ipykernel)",
   "language": "python",
   "name": "python3"
  },
  "language_info": {
   "codemirror_mode": {
    "name": "ipython",
    "version": 3
   },
   "file_extension": ".py",
   "mimetype": "text/x-python",
   "name": "python",
   "nbconvert_exporter": "python",
   "pygments_lexer": "ipython3",
   "version": "3.8.10"
  }
 },
 "nbformat": 4,
 "nbformat_minor": 5
}
