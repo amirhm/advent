{
 "cells": [
  {
   "cell_type": "code",
   "execution_count": null,
   "id": "3470e9b2",
   "metadata": {},
   "outputs": [],
   "source": [
    "import numpy as np\n",
    "import matplotlib.pyplot as plt\n",
    "import re"
   ]
  },
  {
   "cell_type": "code",
   "execution_count": null,
   "id": "d0b57d7d",
   "metadata": {},
   "outputs": [],
   "source": [
    "from collections import namedtuple"
   ]
  },
  {
   "cell_type": "code",
   "execution_count": null,
   "id": "6d401267",
   "metadata": {},
   "outputs": [],
   "source": [
    "# Original input from file"
   ]
  },
  {
   "cell_type": "code",
   "execution_count": null,
   "id": "40a5bbc8",
   "metadata": {},
   "outputs": [],
   "source": [
    "# with open('data5.txt','r') as fid:\n",
    "#    data = fid.read().strip()"
   ]
  },
  {
   "cell_type": "code",
   "execution_count": null,
   "id": "0665a1c2",
   "metadata": {},
   "outputs": [],
   "source": [
    "data = \"\"\"0,9 -> 5,9\n",
    "8,0 -> 0,8\n",
    "9,4 -> 3,4\n",
    "2,2 -> 2,1\n",
    "7,0 -> 7,4\n",
    "6,4 -> 2,0\n",
    "0,9 -> 2,9\n",
    "3,4 -> 1,4\n",
    "0,0 -> 8,8\n",
    "5,5 -> 8,2\"\"\""
   ]
  },
  {
   "cell_type": "code",
   "execution_count": null,
   "id": "5e5e2b0b",
   "metadata": {},
   "outputs": [],
   "source": [
    "point = namedtuple('Points',['x','y'])"
   ]
  },
  {
   "cell_type": "markdown",
   "id": "2f5942af",
   "metadata": {},
   "source": [
    "### Import Data using the re"
   ]
  },
  {
   "cell_type": "code",
   "execution_count": null,
   "id": "2724b5c6",
   "metadata": {},
   "outputs": [],
   "source": [
    "d = re.findall(\"([0-9]*)\\,([0-9]*) -> ([0-9]*),([0-9]*)\", data)\n",
    "srcp = [point(int(line[0]), int(line[1])) for line in d]\n",
    "desp = [point(int(line[2]), int(line[3])) for line in d]"
   ]
  },
  {
   "cell_type": "markdown",
   "id": "00a53824",
   "metadata": {},
   "source": [
    "### Or simply by parsing the lines"
   ]
  },
  {
   "cell_type": "code",
   "execution_count": null,
   "id": "98a1f377",
   "metadata": {},
   "outputs": [],
   "source": [
    "srcp = []\n",
    "desp = []\n",
    "\n",
    "for line in data.split('\\n'):\n",
    "    src, dest = line.split('->')\n",
    "    srcp.append(point(*[int(v) for v in src.split(',')]))\n",
    "    desp.append(point(*[int(v) for v in dest.split(',')]))"
   ]
  },
  {
   "cell_type": "markdown",
   "id": "1780f7fc",
   "metadata": {},
   "source": [
    "# Part 1"
   ]
  },
  {
   "cell_type": "code",
   "execution_count": null,
   "id": "ef1f2a8e",
   "metadata": {},
   "outputs": [],
   "source": [
    "mask = np.zeros((1000,1000))\n",
    "\n",
    "for st, sp in zip(srcp, desp):\n",
    "        if (st.x == sp.x):\n",
    "            if(st.y < sp.y):\n",
    "                mask[st.x,st.y:sp.y + 1] += 1\n",
    "            else:\n",
    "                mask[st.x,sp.y:st.y + 1] += 1\n",
    "        \n",
    "        if (st.y == sp.y):\n",
    "            if(st.x < sp.x ):\n",
    "                mask[st.x:sp.x+1,st.y] += 1\n",
    "            else:\n",
    "                mask[sp.x:st.x+1,st.y] += 1\n",
    "print((mask >=2).sum())"
   ]
  },
  {
   "cell_type": "markdown",
   "id": "c84710a6",
   "metadata": {},
   "source": [
    "# Part 2"
   ]
  },
  {
   "cell_type": "code",
   "execution_count": null,
   "id": "58626c23",
   "metadata": {},
   "outputs": [],
   "source": [
    "srcp = []\n",
    "desp = []\n",
    "mask = np.zeros((1000,1000))\n",
    "\n",
    "rang_const = lambda x : (x for _ in range(1000))\n",
    "\n",
    "for line in data.split('\\n'):\n",
    "    src, dest = line.split('->')\n",
    "    srcp.append(point(*[int(v) for v in src.split(',')]))\n",
    "    desp.append(point(*[int(v) for v in dest.split(',')]))\n",
    "    \n",
    "for st, sp in zip(srcp, desp):\n",
    "            if st.x > sp.x:\n",
    "                xslice = range(st.x, sp.x - 1 , -1)\n",
    "            elif st.x < sp.x:\n",
    "                xslice = range(st.x, sp.x + 1)\n",
    "            else:\n",
    "                xslice = rang_const(st.x)\n",
    "            if st[1] > sp[1]:\n",
    "                yslice = range(st.y, sp.y - 1 , -1)\n",
    "            elif st[1] < sp[1]:\n",
    "                yslice = range(st.y, sp.y + 1 )\n",
    "            else:\n",
    "                yslice = rang_const(st[1])\n",
    "\n",
    "            for x, y in zip(xslice, yslice):\n",
    "                mask[x,y] +=1\n",
    "\n",
    "print((mask >=2).sum())\n",
    "                "
   ]
  }
 ],
 "metadata": {
  "kernelspec": {
   "display_name": "Python 3 (ipykernel)",
   "language": "python",
   "name": "python3"
  },
  "language_info": {
   "codemirror_mode": {
    "name": "ipython",
    "version": 3
   },
   "file_extension": ".py",
   "mimetype": "text/x-python",
   "name": "python",
   "nbconvert_exporter": "python",
   "pygments_lexer": "ipython3",
   "version": "3.8.10"
  }
 },
 "nbformat": 4,
 "nbformat_minor": 5
}
