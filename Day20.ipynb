{
 "cells": [
  {
   "cell_type": "code",
   "execution_count": null,
   "id": "feff2f9f",
   "metadata": {},
   "outputs": [],
   "source": [
    "import numpy as np"
   ]
  },
  {
   "cell_type": "code",
   "execution_count": null,
   "id": "fe3993a0",
   "metadata": {},
   "outputs": [],
   "source": [
    "code = \"\"\"..#.#..#####.#.#.#.###.##.....###.##.#..###.####..#####..#....#..#..##..###..######.###...####..#..#####..##..#.#####...##.#.#..#.##..#.#......#.###.######.###.####...#.##.##..#..#..#####.....#.#....###..#.##......#.....#..#..#..##..#...##.######.####.####.#.#...#.......#..#.#.#...####.##.#......#..#...##.#.##..#...##.#.##..###.#......#.#.......#.#.#.####.###.##...#.....####.#..#..#.##.#....##..#.####....##...##..#...#......#.#.......#.......##..####..#...#.#.#...##..#.#..###..#####........#..####......#..#\"\"\"\n",
    "im = \"\"\"#..#.\n",
    "#....\n",
    "##..#\n",
    "..#..\n",
    "..###\"\"\"\n",
    "\n",
    "m0 = \"\"\"...............\n",
    "...............\n",
    "...............\n",
    "...............\n",
    "...............\n",
    ".....#..#......\n",
    ".....#.........\n",
    ".....##..#.....\n",
    ".......#.......\n",
    ".......###.....\n",
    "...............\n",
    "...............\n",
    "...............\n",
    "...............\n",
    "...............\"\"\"\n",
    "\n",
    "m1 = \"\"\"...............\n",
    "...............\n",
    "...............\n",
    "...............\n",
    ".....##.##.....\n",
    "....#..#.#.....\n",
    "....##.#..#....\n",
    "....####..#....\n",
    ".....#..##.....\n",
    "......##..#....\n",
    ".......#.#.....\n",
    "...............\n",
    "...............\n",
    "...............\n",
    "...............\"\"\"\n",
    "\n",
    "m2 =\"\"\"...............\n",
    "...............\n",
    "...............\n",
    "..........#....\n",
    "....#..#.#.....\n",
    "...#.#...###...\n",
    "...#...##.#....\n",
    "...#.....#.#...\n",
    "....#.#####....\n",
    ".....#.#####...\n",
    "......##.##....\n",
    ".......###.....\n",
    "...............\n",
    "...............\n",
    "...............\"\"\"\n",
    "\n",
    "code0 = [0 if c == \".\" else 1 for c in code]"
   ]
  },
  {
   "cell_type": "code",
   "execution_count": null,
   "id": "551177d3",
   "metadata": {
    "scrolled": true
   },
   "outputs": [],
   "source": [
    "m =  np.array([[0 if l=='.' else 1 for l in line] for line in m.split('\\n')])"
   ]
  },
  {
   "cell_type": "code",
   "execution_count": null,
   "id": "0dc6342d",
   "metadata": {},
   "outputs": [],
   "source": [
    "m0 = np.array([[0 if l=='.' else 1 for l in line] for line in m0.split('\\n')])\n",
    "m1 = np.array([[0 if l=='.' else 1 for l in line] for line in m1.split('\\n')])\n",
    "m2 = np.array([[0 if l=='.' else 1 for l in line] for line in m2.split('\\n')])\n",
    "im = np.array([[0 if l=='.' else 1 for l in line] for line in im.split('\\n')])"
   ]
  },
  {
   "cell_type": "code",
   "execution_count": null,
   "id": "2ce3a92d",
   "metadata": {},
   "outputs": [],
   "source": [
    "def enh(m0 , code, default ):\n",
    "    if pad > 0:\n",
    "        m = np.zeros((m0.shape[0] + (2 * pad),m0.shape[1] + 2*pad),dtype=int)\n",
    "        m[pad:-pad,pad:-pad] = m0\n",
    "        p = 1\n",
    "        m4 = np.zeros((m.shape[0] + (2 * p),m.shape[1] + (2 * p)),dtype=int)\n",
    "        m4[p:-p,p:-p] = m\n",
    "    else:\n",
    "        m = m0\n",
    "        p = 1\n",
    "        m4 = np.ones((m.shape[0] + (2 * p),m.shape[1] + (2 * p)),dtype=int)\n",
    "        m4[p:-p,p:-p] = m\n",
    "    \n",
    "    \n",
    "    out = np.zeros_like(m)\n",
    "\n",
    "\n",
    "    for i in range(m.shape[0]):\n",
    "        for j in range(m.shape[1]):\n",
    "            k = m4[i :i + 3 , j : j + 3 ]\n",
    "            idx = test(k)\n",
    "            out[i , j ] = code[idx]\n",
    "    return out"
   ]
  },
  {
   "cell_type": "code",
   "execution_count": null,
   "id": "234843a3",
   "metadata": {},
   "outputs": [],
   "source": [
    "def test(mm):\n",
    "    s = [str(m) for m in mm.flatten()]\n",
    "    s =  \"\".join(s)\n",
    "    return int(s,2)"
   ]
  },
  {
   "cell_type": "code",
   "execution_count": null,
   "id": "4a7b90c2",
   "metadata": {},
   "outputs": [],
   "source": [
    "def pmat(n):\n",
    "    for line in n:\n",
    "        s = \"\".join([\".\" if c == 0 else \"#\" for c in line])\n",
    "        print(s)"
   ]
  },
  {
   "cell_type": "code",
   "execution_count": null,
   "id": "a1e281b8",
   "metadata": {},
   "outputs": [],
   "source": [
    "# Part1 "
   ]
  },
  {
   "cell_type": "code",
   "execution_count": null,
   "id": "3837b413",
   "metadata": {},
   "outputs": [],
   "source": [
    "k = enh(im, code0, 5)\n",
    "n = enh(k, code0, 5)"
   ]
  },
  {
   "cell_type": "code",
   "execution_count": null,
   "id": "fabd8a8e",
   "metadata": {},
   "outputs": [],
   "source": [
    "n.sum()"
   ]
  },
  {
   "cell_type": "code",
   "execution_count": null,
   "id": "949ee40e",
   "metadata": {},
   "outputs": [],
   "source": [
    "# Part2"
   ]
  },
  {
   "cell_type": "code",
   "execution_count": null,
   "id": "26be260d",
   "metadata": {},
   "outputs": [],
   "source": [
    "m = n\n",
    "for i in range(24):\n",
    "    m = n\n",
    "    k = enh(m, code0, 1)\n",
    "    n = enh(k, code0, 1)"
   ]
  },
  {
   "cell_type": "code",
   "execution_count": null,
   "id": "411a6fbe",
   "metadata": {},
   "outputs": [],
   "source": [
    "n.sum()"
   ]
  },
  {
   "cell_type": "code",
   "execution_count": null,
   "id": "9f09f68a",
   "metadata": {},
   "outputs": [],
   "source": []
  }
 ],
 "metadata": {
  "kernelspec": {
   "display_name": "Python 3 (ipykernel)",
   "language": "python",
   "name": "python3"
  },
  "language_info": {
   "codemirror_mode": {
    "name": "ipython",
    "version": 3
   },
   "file_extension": ".py",
   "mimetype": "text/x-python",
   "name": "python",
   "nbconvert_exporter": "python",
   "pygments_lexer": "ipython3",
   "version": "3.8.10"
  }
 },
 "nbformat": 4,
 "nbformat_minor": 5
}
