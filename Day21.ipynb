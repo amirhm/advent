{
 "cells": [
  {
   "cell_type": "code",
   "execution_count": 1,
   "id": "74f0445c",
   "metadata": {},
   "outputs": [],
   "source": [
    "import numpy as np"
   ]
  },
  {
   "cell_type": "code",
   "execution_count": 328,
   "id": "dd966a18",
   "metadata": {},
   "outputs": [],
   "source": [
    "import itertools"
   ]
  },
  {
   "cell_type": "markdown",
   "id": "774016ed",
   "metadata": {},
   "source": [
    "## Part 1"
   ]
  },
  {
   "cell_type": "code",
   "execution_count": 126,
   "id": "0603c914",
   "metadata": {},
   "outputs": [],
   "source": [
    "def dice():\n",
    "    val = 1\n",
    "    while True:\n",
    "        yield val\n",
    "        val = val + 1\n",
    "        val = 1 if val == 101 else val"
   ]
  },
  {
   "cell_type": "code",
   "execution_count": 127,
   "id": "35049f59",
   "metadata": {},
   "outputs": [],
   "source": [
    "di = dice()"
   ]
  },
  {
   "cell_type": "code",
   "execution_count": 128,
   "id": "7ecfae97",
   "metadata": {},
   "outputs": [],
   "source": [
    "dic = iter(di)"
   ]
  },
  {
   "cell_type": "code",
   "execution_count": 129,
   "id": "9162a1aa",
   "metadata": {},
   "outputs": [],
   "source": [
    "p1 = 10\n",
    "p2 = 1\n",
    "s1 = 0\n",
    "s2 = 0\n",
    "cnt = 0\n",
    "for i in range(200):\n",
    "    di1 = sum((next(dic), next(dic),next(dic)))\n",
    "    p1 = (p1 + di1 - 1) % 10 + 1 \n",
    "    s1 += p1 \n",
    "    cnt +=3\n",
    "    if (s1 >= 1000):\n",
    "        break\n",
    "    di2 = sum((next(dic), next(dic),next(dic)))\n",
    "    cnt +=3\n",
    "    p2 = (p2 + di2 - 1) % 10 + 1 \n",
    "    s2 += p2 \n",
    "    if (s2 >= 1000):\n",
    "        break"
   ]
  },
  {
   "cell_type": "code",
   "execution_count": 130,
   "id": "ee3fef18",
   "metadata": {},
   "outputs": [
    {
     "data": {
      "text/plain": [
       "920079"
      ]
     },
     "execution_count": 130,
     "metadata": {},
     "output_type": "execute_result"
    }
   ],
   "source": [
    "min(s1, s2) * cnt"
   ]
  },
  {
   "cell_type": "markdown",
   "id": "ab115d96",
   "metadata": {},
   "source": [
    "## Part 2"
   ]
  },
  {
   "cell_type": "code",
   "execution_count": 329,
   "id": "7bc25c6d",
   "metadata": {},
   "outputs": [],
   "source": [
    "t = itertools.product([1,2,3],repeat=3)"
   ]
  },
  {
   "cell_type": "code",
   "execution_count": 330,
   "id": "2505f0ac",
   "metadata": {},
   "outputs": [],
   "source": [
    "f = np.array(list(t)).sum(axis=-1)"
   ]
  },
  {
   "cell_type": "code",
   "execution_count": 331,
   "id": "74ea4385",
   "metadata": {},
   "outputs": [],
   "source": [
    "res = np.unique(f,return_counts=True)"
   ]
  },
  {
   "cell_type": "code",
   "execution_count": 332,
   "id": "49c01522",
   "metadata": {},
   "outputs": [],
   "source": [
    "outcome_frequency = {x:y for x,y  in zip(res[0], res[1])}"
   ]
  },
  {
   "cell_type": "code",
   "execution_count": 538,
   "id": "0e202168",
   "metadata": {},
   "outputs": [],
   "source": [
    "def compute(p1out, player, win1, win2):\n",
    "    pcur = []\n",
    "    for uni in p1out:\n",
    "            for val, freq in outcome_frequency.items():\n",
    "                f = uni[0] * freq \n",
    "                p1 = uni[1]\n",
    "                p2 = uni[2]\n",
    "                s1 = uni[3]\n",
    "                s2 = uni[4]\n",
    "                if player:\n",
    "                    p1 = (p1 + val - 1) % 10 + 1 \n",
    "                    s1 += p1\n",
    "                    if (s1 >= 21):\n",
    "                        win1 += f\n",
    "                    else:\n",
    "                        pcur.append([f, p1, p2, s1, s2])\n",
    "                else:\n",
    "                    p2 = (p2 + val - 1) % 10 + 1 \n",
    "                    s2 += p2\n",
    "                    if (s2 >= 21):\n",
    "                        win2 += f\n",
    "                    else:\n",
    "                        pcur.append([f, p1, p2, s1, s2])\n",
    "    return pcur , win1 , win2"
   ]
  },
  {
   "cell_type": "code",
   "execution_count": null,
   "id": "746b5ea0",
   "metadata": {},
   "outputs": [],
   "source": [
    "def compute(p1out, player, win1, win2):\n",
    "    pcur = []\n",
    "    for uni in p1out:\n",
    "            for val, freq in outcome_frequency.items():\n",
    "                f = uni[0] * freq \n",
    "                p1 = uni[1]\n",
    "                p2 = uni[2]\n",
    "                s1 = uni[3]\n",
    "                s2 = uni[4]\n",
    "                if player:\n",
    "                    p1 = (p1 + val - 1) % 10 + 1 \n",
    "                    s1 += p1\n",
    "                else:\n",
    "                    p2 = (p2 + val - 1) % 10 + 1 \n",
    "                    s2 += p2\n",
    "                if (s1 >= 21):\n",
    "                    win1 += f    \n",
    "                elif (s2 >= 21):\n",
    "                    win2 += f\n",
    "                else:\n",
    "                    pcur.append([f, p1, p2, s1, s2])\n",
    "    return pcur , win1 , win2"
   ]
  },
  {
   "cell_type": "code",
   "execution_count": 540,
   "id": "a04a2e3c",
   "metadata": {},
   "outputs": [
    {
     "name": "stdout",
     "output_type": "stream",
     "text": [
      "CPU times: user 1min 34s, sys: 541 ms, total: 1min 35s\n",
      "Wall time: 1min 35s\n"
     ]
    }
   ],
   "source": [
    "%%time\n",
    "p1 , p2 = 4 , 8\n",
    "s1 = s2 = 0\n",
    "vic1 = vic2 = 0\n",
    "universe = [[1, p1 , p2, s1, s2]]\n",
    "while len(universe):\n",
    "    universe , vic1, vic2 = compute(universe, True, vic1, vic2)\n",
    "    universe , vic1, vic2 = compute(universe, False, vic1, vic2)\n",
    "    "
   ]
  },
  {
   "cell_type": "code",
   "execution_count": 541,
   "id": "13c25e28",
   "metadata": {},
   "outputs": [
    {
     "name": "stdout",
     "output_type": "stream",
     "text": [
      "CPU times: user 7 µs, sys: 0 ns, total: 7 µs\n",
      "Wall time: 13.8 µs\n",
      "444356092776315\n"
     ]
    }
   ],
   "source": [
    "%time\n",
    "\n",
    "print(max(vic1, vic2))"
   ]
  },
  {
   "cell_type": "code",
   "execution_count": null,
   "id": "1b17d7b3",
   "metadata": {},
   "outputs": [],
   "source": []
  }
 ],
 "metadata": {
  "kernelspec": {
   "display_name": "Python 3 (ipykernel)",
   "language": "python",
   "name": "python3"
  },
  "language_info": {
   "codemirror_mode": {
    "name": "ipython",
    "version": 3
   },
   "file_extension": ".py",
   "mimetype": "text/x-python",
   "name": "python",
   "nbconvert_exporter": "python",
   "pygments_lexer": "ipython3",
   "version": "3.8.10"
  }
 },
 "nbformat": 4,
 "nbformat_minor": 5
}
