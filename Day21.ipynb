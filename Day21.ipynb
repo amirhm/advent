{
 "cells": [
  {
   "cell_type": "code",
   "execution_count": null,
   "id": "beeb9e24",
   "metadata": {},
   "outputs": [],
   "source": [
    "import itertools\n",
    "from collections import Counter"
   ]
  },
  {
   "cell_type": "markdown",
   "id": "163b3b9c",
   "metadata": {},
   "source": [
    "## Part 1"
   ]
  },
  {
   "cell_type": "code",
   "execution_count": null,
   "id": "0c804916",
   "metadata": {},
   "outputs": [],
   "source": [
    "def dice():\n",
    "    val = 1\n",
    "    while True:\n",
    "        yield val\n",
    "        val = val + 1\n",
    "        val = 1 if val == 101 else val"
   ]
  },
  {
   "cell_type": "code",
   "execution_count": null,
   "id": "1cb5636a",
   "metadata": {},
   "outputs": [],
   "source": [
    "dic = iter(dice())\n",
    "p1 , p2 = 4, 8\n",
    "s1 = s2 = 0\n",
    "cnt = 0\n",
    "for i in range(200):\n",
    "    di1 = sum((next(dic), next(dic),next(dic)))\n",
    "    p1 = (p1 + di1 - 1) % 10 + 1 \n",
    "    s1 += p1 \n",
    "    cnt +=3\n",
    "    if (s1 >= 1000):\n",
    "        break\n",
    "    di2 = sum((next(dic), next(dic),next(dic)))\n",
    "    cnt +=3\n",
    "    p2 = (p2 + di2 - 1) % 10 + 1 \n",
    "    s2 += p2 \n",
    "    if (s2 >= 1000):\n",
    "        break"
   ]
  },
  {
   "cell_type": "code",
   "execution_count": null,
   "id": "4e21e09b",
   "metadata": {},
   "outputs": [],
   "source": [
    "min(s1, s2) * cnt"
   ]
  },
  {
   "cell_type": "markdown",
   "id": "9569870c",
   "metadata": {},
   "source": [
    "## Part 2"
   ]
  },
  {
   "cell_type": "code",
   "execution_count": null,
   "id": "e5432e06",
   "metadata": {},
   "outputs": [],
   "source": [
    "outcomes = itertools.product([1,2,3],repeat=3)"
   ]
  },
  {
   "cell_type": "code",
   "execution_count": null,
   "id": "446412ce",
   "metadata": {},
   "outputs": [],
   "source": [
    "outcome_frequency = Counter(list(map(sum, list(outcomes))))"
   ]
  },
  {
   "cell_type": "code",
   "execution_count": null,
   "id": "09c4e99a",
   "metadata": {},
   "outputs": [],
   "source": [
    "def compute(universes, player, win1, win2):\n",
    "    n_universes = defaultdict(int)\n",
    "    for uni, fr in universes.items():\n",
    "            for val, freq in outcome_frequency.items():\n",
    "                p1, p2, s1, s2  = uni\n",
    "                if player:\n",
    "                    p1 = (p1 + val - 1) % 10 + 1 \n",
    "                    s1 += p1\n",
    "                else:\n",
    "                    p2 = (p2 + val - 1) % 10 + 1 \n",
    "                    s2 += p2\n",
    "                if (s1 >= 21):\n",
    "                    win1 += fr * freq    \n",
    "                elif (s2 >= 21):\n",
    "                    win2 += fr * freq\n",
    "                else:\n",
    "                    n_universes[(p1, p2, s1, s2)]  += fr * freq\n",
    "    return n_universes , win1 , win2"
   ]
  },
  {
   "cell_type": "code",
   "execution_count": null,
   "id": "2b742b85",
   "metadata": {},
   "outputs": [],
   "source": [
    "p1 , p2 = 4 , 8\n",
    "s1 = s2 = 0\n",
    "vic1 = vic2 = 0\n",
    "from collections import defaultdict\n",
    "universe = defaultdict(list)\n",
    "universe[(p1 , p2, s1, s2)] = 1\n",
    "while len(universe):\n",
    "    universe , vic1, vic2 = compute(universe, True, vic1, vic2)\n",
    "    universe , vic1, vic2 = compute(universe, False, vic1, vic2)\n",
    "    "
   ]
  },
  {
   "cell_type": "code",
   "execution_count": null,
   "id": "f73e9e1e",
   "metadata": {},
   "outputs": [],
   "source": [
    "print(max(vic1, vic2))"
   ]
  },
  {
   "cell_type": "code",
   "execution_count": null,
   "id": "8e7334d6",
   "metadata": {},
   "outputs": [],
   "source": []
  }
 ],
 "metadata": {
  "kernelspec": {
   "display_name": "Python 3 (ipykernel)",
   "language": "python",
   "name": "python3"
  },
  "language_info": {
   "codemirror_mode": {
    "name": "ipython",
    "version": 3
   },
   "file_extension": ".py",
   "mimetype": "text/x-python",
   "name": "python",
   "nbconvert_exporter": "python",
   "pygments_lexer": "ipython3",
   "version": "3.8.10"
  }
 },
 "nbformat": 4,
 "nbformat_minor": 5
}
