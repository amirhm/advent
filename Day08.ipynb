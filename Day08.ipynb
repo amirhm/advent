{
 "cells": [
  {
   "cell_type": "code",
   "execution_count": null,
   "metadata": {},
   "outputs": [],
   "source": [
    "import numpy as np"
   ]
  },
  {
   "cell_type": "code",
   "execution_count": null,
   "metadata": {},
   "outputs": [],
   "source": [
    "import collections\n",
    "import re"
   ]
  },
  {
   "cell_type": "code",
   "execution_count": null,
   "metadata": {},
   "outputs": [],
   "source": [
    "data=\"\"\"be cfbegad cbdgef fgaecd cgeb fdcge agebfd fecdb fabcd edb | fdgacbe cefdb cefbgd gcbe\n",
    "edbfga begcd cbg gc gcadebf fbgde acbgfd abcde gfcbed gfec | fcgedb cgb dgebacf gc\n",
    "fgaebd cg bdaec gdafb agbcfd gdcbef bgcad gfac gcb cdgabef | cg cg fdcagb cbg\n",
    "fbegcd cbd adcefb dageb afcb bc aefdc ecdab fgdeca fcdbega | efabcd cedba gadfec cb\n",
    "aecbfdg fbg gf bafeg dbefa fcge gcbea fcaegb dgceab fcbdga | gecf egdcabf bgf bfgea\n",
    "fgeab ca afcebg bdacfeg cfaedg gcfdb baec bfadeg bafgc acf | gebdcfa ecba ca fadegcb\n",
    "dbcfg fgd bdegcaf fgec aegbdf ecdfab fbedc dacgb gdcebf gf | cefg dcbef fcge gbcadfe\n",
    "bdfegc cbegaf gecbf dfcage bdacg ed bedf ced adcbefg gebcd | ed bcgafe cdgba cbgef\n",
    "egadfb cdbfeg cegd fecab cgb gbdefca cg fgcdab egfdb bfceg | gbdfcae bgc cg cgb\n",
    "gcafb gcf dcaebfg ecagb gf abcdeg gaef cafbge fdbac fegbdc | fgae cfgab fg bagce\"\"\""
   ]
  },
  {
   "cell_type": "markdown",
   "metadata": {},
   "source": [
    "## Part 1"
   ]
  },
  {
   "cell_type": "code",
   "execution_count": null,
   "metadata": {},
   "outputs": [],
   "source": [
    "s = 0\n",
    "for line in re.split('\\n|\\|', data)[1::2]:\n",
    "    s += sum(map(lambda x: len(x) in [2,3,4,7], line.split()))\n",
    "print(s)"
   ]
  },
  {
   "cell_type": "markdown",
   "metadata": {},
   "source": [
    "## Part 2"
   ]
  },
  {
   "cell_type": "code",
   "execution_count": null,
   "metadata": {},
   "outputs": [],
   "source": [
    "out_values = []\n",
    "dic = {25:7, 17:1, 45:9, 30:4, 41:6, 37:5, 49:8, 39:3, 34:2, 42:0}\n",
    "func = lambda x: 1 << (ord(x) - 97)\n",
    "for line in data.split('\\n'):\n",
    "    p1, p2 = line.split(\"|\")\n",
    "        \n",
    "    mval = [sum(map(func, p)) for p in p1.split()]\n",
    "    mat = np.array([[int(b) for b in f\"{val:08b}\"] for val in mval]) \n",
    "\n",
    "    r = np.matmul(mat, mat.T).sum(axis=0)\n",
    "    r = list(map(str, map(dic.__getitem__, r)))\n",
    "    translate_dict = dict(zip(mval, r))\n",
    "\n",
    "    # Translate output\n",
    "    m = [translate_dict[sum(map(func, p))] for p in p2.split()]\n",
    "    out_values.append(int(\"\".join(m)))"
   ]
  },
  {
   "cell_type": "code",
   "execution_count": null,
   "metadata": {},
   "outputs": [],
   "source": [
    "print(sum(out_values))"
   ]
  },
  {
   "cell_type": "markdown",
   "metadata": {},
   "source": [
    "## Part 2 in Different approach"
   ]
  },
  {
   "cell_type": "code",
   "execution_count": null,
   "metadata": {},
   "outputs": [],
   "source": [
    "def strcmp(str1, str2):\n",
    "    return sum([s in str2 for s in str1])"
   ]
  },
  {
   "cell_type": "code",
   "execution_count": null,
   "metadata": {},
   "outputs": [],
   "source": [
    "di = {2: 1, 3: 7, 4: 4, 7: 8}\n",
    "nums_dic = collections.defaultdict(list)\n",
    "values = []\n",
    "for line in data.split('\\n'):\n",
    "    nums_dic = collections.defaultdict(list)\n",
    "    p1, p2 = line.split(\"|\")\n",
    "    nums = p1.split()\n",
    "    nums_len = list(map(len, nums))\n",
    "    for k,v in di.items():\n",
    "        idx = nums_len.index(k)\n",
    "        nums_dic.update({k: [(v , nums[idx])]})\n",
    "    for n in nums:\n",
    "        if len(n) == 5:\n",
    "            if strcmp(nums_dic[3][0][1], n) == 3:\n",
    "                nums_dic[5].append((3, n))\n",
    "            elif strcmp(nums_dic[4][0][1], n) == 3:\n",
    "                nums_dic[5].append((5, n))\n",
    "            else:\n",
    "                nums_dic[5].append((2, n))\n",
    "        if len(n) == 6:    \n",
    "            if strcmp(nums_dic[4][0][1], n) == 4:\n",
    "                nums_dic[6].append((9, n))\n",
    "            elif strcmp(nums_dic[3][0][1], n) == 3:\n",
    "                nums_dic[6].append((0, n))                \n",
    "            else:\n",
    "                nums_dic[6].append((6, n))\n",
    "    \n",
    "    ## Translate output\n",
    "    val = \"\"\n",
    "    for p in p2.split():\n",
    "        lp = len(p)\n",
    "        it =  nums_dic[lp]\n",
    "        if len(it) == 1:\n",
    "            val +=str(it[0][0])\n",
    "        else:\n",
    "            for t in it:\n",
    "                if strcmp(t[1], p) == lp:\n",
    "                    val +=str(t[0])\n",
    "    values.append(int(val))"
   ]
  },
  {
   "cell_type": "code",
   "execution_count": null,
   "metadata": {},
   "outputs": [],
   "source": [
    "sum(values)"
   ]
  }
 ],
 "metadata": {
  "kernelspec": {
   "display_name": "Python 3 (ipykernel)",
   "language": "python",
   "name": "python3"
  },
  "language_info": {
   "codemirror_mode": {
    "name": "ipython",
    "version": 3
   },
   "file_extension": ".py",
   "mimetype": "text/x-python",
   "name": "python",
   "nbconvert_exporter": "python",
   "pygments_lexer": "ipython3",
   "version": "3.8.10"
  }
 },
 "nbformat": 4,
 "nbformat_minor": 4
}
