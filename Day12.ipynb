{
 "cells": [
  {
   "cell_type": "code",
   "execution_count": null,
   "metadata": {},
   "outputs": [],
   "source": [
    "import numpy as np\n",
    "import collections"
   ]
  },
  {
   "cell_type": "code",
   "execution_count": null,
   "metadata": {},
   "outputs": [],
   "source": [
    "data =\"\"\"start-A\n",
    "start-b\n",
    "A-c\n",
    "A-b\n",
    "b-d\n",
    "A-end\n",
    "b-end\"\"\""
   ]
  },
  {
   "cell_type": "code",
   "execution_count": null,
   "metadata": {},
   "outputs": [],
   "source": [
    "di = collections.defaultdict(list)\n",
    "for line in data.split(\"\\n\"):\n",
    "    v = line.split('-')\n",
    "    di[v[0]].append(v[1])\n",
    "    di[v[1]].append(v[0])"
   ]
  },
  {
   "cell_type": "code",
   "execution_count": null,
   "metadata": {},
   "outputs": [],
   "source": [
    "def first_step(cur, path):\n",
    "    for st in di[cur]:\n",
    "        if st.isupper():\n",
    "            path.append([\"start\" ,st])\n",
    "        if st.islower() and  not( st in path):\n",
    "            path.append([\"start\", st])"
   ]
  },
  {
   "cell_type": "code",
   "execution_count": null,
   "metadata": {},
   "outputs": [],
   "source": [
    "def next_step( path):\n",
    "    newpath = []\n",
    "    for p in  path:\n",
    "        cur = p[-1]\n",
    "        if cur == \"end\":\n",
    "            newpath.append(p)\n",
    "        else:\n",
    "            for st in di[cur]:\n",
    "                if st.isupper():\n",
    "                    newpath.append(p + [st])\n",
    "                if st.islower() and  not( st in p):\n",
    "                    newpath.append(p + [st])\n",
    "    return newpath"
   ]
  },
  {
   "cell_type": "code",
   "execution_count": null,
   "metadata": {},
   "outputs": [],
   "source": [
    "path = []\n",
    "first_step(\"start\", path)\n"
   ]
  },
  {
   "cell_type": "code",
   "execution_count": null,
   "metadata": {},
   "outputs": [],
   "source": [
    "flag = True\n",
    "while flag:\n",
    "    npath = next_step( path)\n",
    "    flag = not(npath == path)\n",
    "    path = npath"
   ]
  },
  {
   "cell_type": "code",
   "execution_count": null,
   "metadata": {},
   "outputs": [],
   "source": [
    "# Part 2"
   ]
  },
  {
   "cell_type": "code",
   "execution_count": null,
   "metadata": {},
   "outputs": [],
   "source": [
    "def cnt(v, ls):\n",
    "    return sum(map(lambda x: x== v, ls))"
   ]
  },
  {
   "cell_type": "code",
   "execution_count": null,
   "metadata": {},
   "outputs": [],
   "source": [
    "def small2(ls):\n",
    "    for item in set(ls):\n",
    "        if cnt(item, ls) >= 2 and item !=\"start\" and item.islower():\n",
    "            return False\n",
    "    return True\n",
    "    "
   ]
  },
  {
   "cell_type": "code",
   "execution_count": null,
   "metadata": {},
   "outputs": [],
   "source": [
    "def next_step( path):\n",
    "    newpath = []\n",
    "    for p in  path:\n",
    "        cur = p[-1]\n",
    "        if cur == \"end\":\n",
    "            newpath.append(p)\n",
    "        else:\n",
    "            for st in di[cur]:\n",
    "                if st.isupper():\n",
    "                    newpath.append(p + [st])\n",
    "                if st.islower() and  not( st in p):\n",
    "                    newpath.append(p + [st])\n",
    "                if st.islower() and  cnt( st , p) == 1 and small2(p) and st !=\"start\":\n",
    "                    newpath.append(p + [st])\n",
    "    return newpath"
   ]
  },
  {
   "cell_type": "code",
   "execution_count": null,
   "metadata": {},
   "outputs": [],
   "source": [
    "path = []\n",
    "first_step(\"start\", path)\n"
   ]
  },
  {
   "cell_type": "code",
   "execution_count": null,
   "metadata": {},
   "outputs": [],
   "source": [
    "flag = True\n",
    "while flag:\n",
    "    npath = next_step( path)\n",
    "    flag = not(npath == path)\n",
    "    path = npath"
   ]
  },
  {
   "cell_type": "code",
   "execution_count": null,
   "metadata": {},
   "outputs": [],
   "source": [
    "len(path)"
   ]
  }
 ],
 "metadata": {
  "kernelspec": {
   "display_name": "Python 3",
   "language": "python",
   "name": "python3"
  },
  "language_info": {
   "codemirror_mode": {
    "name": "ipython",
    "version": 3
   },
   "file_extension": ".py",
   "mimetype": "text/x-python",
   "name": "python",
   "nbconvert_exporter": "python",
   "pygments_lexer": "ipython3",
   "version": "3.8.6"
  }
 },
 "nbformat": 4,
 "nbformat_minor": 4
}
