{
 "cells": [
  {
   "cell_type": "code",
   "execution_count": null,
   "id": "8cdd9382",
   "metadata": {},
   "outputs": [],
   "source": [
    "import heapq"
   ]
  },
  {
   "cell_type": "code",
   "execution_count": null,
   "id": "a79f2270",
   "metadata": {},
   "outputs": [],
   "source": [
    "data = \"\"\"1163751742\n",
    "1381373672\n",
    "2136511328\n",
    "3694931569\n",
    "7463417111\n",
    "1319128137\n",
    "1359912421\n",
    "3125421639\n",
    "1293138521\n",
    "2311944581\"\"\""
   ]
  },
  {
   "cell_type": "code",
   "execution_count": null,
   "id": "ce0c69c2",
   "metadata": {},
   "outputs": [],
   "source": [
    "def adj(x,y, m, n) : \n",
    "    l = []\n",
    "    if x >= 1:\n",
    "        l.append((x - 1 , y))\n",
    "    if x < m - 1:\n",
    "        l.append((x + 1 , y))\n",
    "    if y >= 1:\n",
    "        l.append((x , y - 1))\n",
    "    if y < n - 1:\n",
    "        l.append((x , y + 1))\n",
    "    return l"
   ]
  },
  {
   "cell_type": "code",
   "execution_count": null,
   "id": "7a596c19",
   "metadata": {},
   "outputs": [],
   "source": [
    "def move(path, m, n , l_cost, checked_list, cost_func):\n",
    "    \n",
    "    cost, coord= heapq.heappop(path)\n",
    "    if coord in checked_list:\n",
    "        return path, False, l_cost\n",
    "    else:\n",
    "        checked_list.add(coord)\n",
    "    if coord == (m - 1, n - 1):\n",
    "        return path, True, cost\n",
    "\n",
    "    point = adj(*coord, m, n)\n",
    "    for pp in point:\n",
    "        heapq.heappush(path, (cost + cost_func(*pp), pp))\n",
    "            \n",
    "    return path , False, l_cost"
   ]
  },
  {
   "cell_type": "code",
   "execution_count": null,
   "id": "0ce6cdd9",
   "metadata": {},
   "outputs": [],
   "source": [
    "#with open(\"day15.txt\", \"r\") as fid:\n",
    "#    data = fid.read()\n",
    "    \n",
    "data = [[int(l) for l in line] for line in data.split(\"\\n\")]\n",
    "m, n = len(data) , len(data[0])   "
   ]
  },
  {
   "cell_type": "code",
   "execution_count": null,
   "id": "e292ba8c",
   "metadata": {},
   "outputs": [],
   "source": [
    "# Part 1"
   ]
  },
  {
   "cell_type": "code",
   "execution_count": null,
   "id": "539b4a00",
   "metadata": {},
   "outputs": [],
   "source": [
    "path = [(0, (0,0))]\n",
    "f = False\n",
    "cost = 2000\n",
    "check = set()\n",
    "\n",
    "cost_func = lambda x,y :  data[x][y]\n",
    "while not f :\n",
    "    path, f, cost = move(path, m, n, cost, check, cost_func)  \n",
    "print(cost)"
   ]
  },
  {
   "cell_type": "code",
   "execution_count": null,
   "id": "a472bcc4",
   "metadata": {},
   "outputs": [],
   "source": [
    "# Part 2"
   ]
  },
  {
   "cell_type": "code",
   "execution_count": null,
   "id": "38982102",
   "metadata": {},
   "outputs": [],
   "source": [
    "def cost_func2 (x, y, m, n) :\n",
    "    x0 = x // m , x % m\n",
    "    y0 = y // n , y % n\n",
    "    v = data[x0[1]][y0[1]] + x0[0] + y0[0] \n",
    "    v = ((v - 1) % 9) + 1\n",
    "    return v"
   ]
  },
  {
   "cell_type": "code",
   "execution_count": null,
   "id": "038cbe81",
   "metadata": {},
   "outputs": [],
   "source": [
    "path = [(0, (0,0))]\n",
    "f = False\n",
    "check = set()\n",
    "scale = 5\n",
    "while not f :\n",
    "    path, f, cost = move(path, m * scale, n * scale, cost, check, lambda x, y : cost_func2(x, y, m, n))  \n",
    "print(cost)"
   ]
  },
  {
   "cell_type": "code",
   "execution_count": null,
   "id": "d6e68b91",
   "metadata": {},
   "outputs": [],
   "source": []
  }
 ],
 "metadata": {
  "kernelspec": {
   "display_name": "Python 3 (ipykernel)",
   "language": "python",
   "name": "python3"
  },
  "language_info": {
   "codemirror_mode": {
    "name": "ipython",
    "version": 3
   },
   "file_extension": ".py",
   "mimetype": "text/x-python",
   "name": "python",
   "nbconvert_exporter": "python",
   "pygments_lexer": "ipython3",
   "version": "3.8.10"
  }
 },
 "nbformat": 4,
 "nbformat_minor": 5
}
