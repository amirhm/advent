{
 "cells": [
  {
   "cell_type": "code",
   "execution_count": null,
   "id": "15a49d9f",
   "metadata": {},
   "outputs": [],
   "source": [
    "import numpy as np"
   ]
  },
  {
   "cell_type": "code",
   "execution_count": null,
   "id": "683f6dab",
   "metadata": {},
   "outputs": [],
   "source": [
    "data = \"\"\"2199943210\n",
    "3987894921\n",
    "9856789892\n",
    "8767896789\n",
    "9899965678\"\"\""
   ]
  },
  {
   "cell_type": "code",
   "execution_count": null,
   "id": "d34c6df3",
   "metadata": {},
   "outputs": [],
   "source": [
    "data = np.array([[int(d) for d in line] for line in data.split('\\n')])"
   ]
  },
  {
   "cell_type": "code",
   "execution_count": null,
   "id": "92d1ce29",
   "metadata": {},
   "outputs": [],
   "source": [
    " # Part 1"
   ]
  },
  {
   "cell_type": "code",
   "execution_count": null,
   "id": "14835463",
   "metadata": {},
   "outputs": [],
   "source": [
    "pad_data = np.pad(data, [(1, 1), (1, 1)], mode='constant', constant_values=100)\n",
    "dx = (pad_data[:,1:-1] < pad_data[:,2:]) & (pad_data[:,1:-1] < pad_data[:,0:-2])\n",
    "dy = (pad_data[1:-1,:] < pad_data[2:,:]) & (pad_data[1:-1,:] < pad_data[0:-2,:])\n",
    "idx = dx[1:-1] & dy[:,1:-1]\n",
    "risk_level = (data[idx] + 1).sum()"
   ]
  },
  {
   "cell_type": "code",
   "execution_count": null,
   "id": "4444d8d9",
   "metadata": {},
   "outputs": [],
   "source": [
    "print(risk_level)"
   ]
  },
  {
   "cell_type": "code",
   "execution_count": null,
   "id": "315eeebd",
   "metadata": {},
   "outputs": [],
   "source": [
    "# Part 2"
   ]
  },
  {
   "cell_type": "code",
   "execution_count": null,
   "id": "0e9499f2",
   "metadata": {},
   "outputs": [],
   "source": [
    "def test(points):\n",
    "    new = set()\n",
    "    for x , y in points:\n",
    "        xidx = x + np.array([0, -1 , 0 , 1, 0])\n",
    "        yidx = y + np.array([-1 , 0, 0, 0, 1])\n",
    "        idx = (xidx >= 0) & (xidx < 100) & (yidx >= 0) & (yidx < 100)\n",
    "        xidx, yidx = xidx[idx], yidx[idx]\n",
    "        idx = (data[xidx, yidx] < 9)\n",
    "        for v in zip(xidx[idx] , yidx[idx]):\n",
    "            new.add((v[0], v[1]))\n",
    "    return new"
   ]
  },
  {
   "cell_type": "code",
   "execution_count": null,
   "id": "98a1cc93",
   "metadata": {},
   "outputs": [],
   "source": [
    "low_points = {(x , y) for x,y in zip(*np.where(idx))}              \n",
    "basins_area = []\n",
    "for points in low_points:\n",
    "    npoints = test({points})\n",
    "    while (npoints != points):\n",
    "        points = npoints\n",
    "        npoints = test(points)\n",
    "    basins_area.append(len(npoints))"
   ]
  },
  {
   "cell_type": "code",
   "execution_count": null,
   "id": "47c54123",
   "metadata": {},
   "outputs": [],
   "source": [
    "print(np.cumprod(list(reversed(sorted(basins_area)))[:3])[-1])"
   ]
  },
  {
   "cell_type": "code",
   "execution_count": null,
   "id": "534d70b7",
   "metadata": {},
   "outputs": [],
   "source": []
  }
 ],
 "metadata": {
  "kernelspec": {
   "display_name": "Python 3",
   "language": "python",
   "name": "python3"
  },
  "language_info": {
   "codemirror_mode": {
    "name": "ipython",
    "version": 3
   },
   "file_extension": ".py",
   "mimetype": "text/x-python",
   "name": "python",
   "nbconvert_exporter": "python",
   "pygments_lexer": "ipython3",
   "version": "3.8.7"
  }
 },
 "nbformat": 4,
 "nbformat_minor": 5
}
