{
 "cells": [
  {
   "cell_type": "code",
   "execution_count": null,
   "id": "785fafee",
   "metadata": {},
   "outputs": [],
   "source": [
    "import numpy as np\n",
    "import itertools\n",
    "from collections import defaultdict\n",
    "from collections import Counter\n",
    "from collections import namedtuple"
   ]
  },
  {
   "cell_type": "code",
   "execution_count": null,
   "id": "2881803c",
   "metadata": {},
   "outputs": [],
   "source": [
    "with open(\"day19_2.txt\", \"r\") as fid:\n",
    "    dat = fid.read()"
   ]
  },
  {
   "cell_type": "code",
   "execution_count": null,
   "id": "75de5c8e",
   "metadata": {},
   "outputs": [],
   "source": [
    "scanner = []\n",
    "data = []\n",
    "for line in dat.split(\"\\n\"):\n",
    "    if line.startswith(\"---\"):\n",
    "        if len(data) > 0:\n",
    "            scanner.append(np.array(data))\n",
    "        data = []\n",
    "    elif len(line) > 0 :\n",
    "        data.append(list(map(int, line.split(\",\"))))\n",
    "scanner.append(np.array(data))"
   ]
  },
  {
   "cell_type": "code",
   "execution_count": null,
   "id": "aef903c2",
   "metadata": {},
   "outputs": [],
   "source": [
    "r = [f\"{x:03b}\" for x in range(8)]\n",
    "s = [[1 if x=='0' else -1 for x in rr]  for rr in r]"
   ]
  },
  {
   "cell_type": "code",
   "execution_count": null,
   "id": "c9474f6d",
   "metadata": {},
   "outputs": [],
   "source": [
    "m = np.zeros((8,3,3))"
   ]
  },
  {
   "cell_type": "code",
   "execution_count": null,
   "id": "e22ec602",
   "metadata": {},
   "outputs": [],
   "source": [
    "for idx, ss in enumerate(s):\n",
    "    m[idx] = np.diag(ss)"
   ]
  },
  {
   "cell_type": "code",
   "execution_count": null,
   "id": "e7105aae",
   "metadata": {},
   "outputs": [],
   "source": [
    "mm = [] \n",
    "for j in list(itertools.permutations([0,1,2])):\n",
    "    mm.append(m[:,j])\n",
    "m = np.array(mm).reshape((-1,3,3))"
   ]
  },
  {
   "cell_type": "code",
   "execution_count": null,
   "id": "c8110170",
   "metadata": {},
   "outputs": [],
   "source": [
    "def comp(t0 , t1):\n",
    "    m_idx = -1\n",
    "    m0 , m1= t0.shape[0], t1.shape[0]\n",
    "    res = []\n",
    "    for t in t0:\n",
    "        x = (t - np.matmul(t1, m) )\n",
    "        res.append(x)\n",
    "\n",
    "    rrr = np.moveaxis(np.array(res), (1),(0)).reshape((-1,m0 * m1, 3)) \n",
    "\n",
    "    for idx, r in enumerate(rrr):\n",
    "        cnt = Counter()\n",
    "        bv = [vec(*bi) for bi in r]\n",
    "        cnt.update(bv)\n",
    "        if cnt.most_common(1)[0][1] >= 12:\n",
    "            m_idx = idx\n",
    "            cord = cnt.most_common(1)[0][0]\n",
    "            \n",
    "    if(m_idx >= 0):\n",
    "        cord_m = m[m_idx]\n",
    "        func = lambda x: np.matmul(x, cord_m) + cord\n",
    "        ifunc = lambda x: np.matmul(x, np.linalg.inv(cord_m)) -  np.matmul(np.linalg.inv(cord_m) , np.array(cord))\n",
    "        return  (m_idx, func, ifunc)\n",
    "    return -1 , 0\n",
    "    "
   ]
  },
  {
   "cell_type": "code",
   "execution_count": null,
   "id": "342c54c6",
   "metadata": {},
   "outputs": [],
   "source": [
    "maping = defaultdict(int)\n",
    "graph = np.zeros((len(scanner), len(scanner)))"
   ]
  },
  {
   "cell_type": "code",
   "execution_count": null,
   "id": "54543c99",
   "metadata": {},
   "outputs": [],
   "source": [
    "vec = namedtuple('Point', ['x', 'y','z'])"
   ]
  },
  {
   "cell_type": "code",
   "execution_count": null,
   "id": "e7536f95",
   "metadata": {},
   "outputs": [],
   "source": [
    "maping = defaultdict(int)\n",
    "graph = np.zeros((len(scanner), len(scanner)))\n",
    "for i in range(len(scanner)+1):\n",
    "    for j in range(i + 1, len(scanner)):\n",
    "        ret = comp(scanner[i], scanner[j]) \n",
    "        if ret[0] >=0:\n",
    "            graph[i, j] = 1\n",
    "            graph[j, i] = 1\n",
    "            maping[f\"{j}_{i}\"] = ret[1]\n",
    "            maping[f\"{i}_{j}\"] = ret[2]"
   ]
  },
  {
   "cell_type": "code",
   "execution_count": null,
   "id": "e01b26d4",
   "metadata": {},
   "outputs": [],
   "source": [
    "def findpath(path):\n",
    "    npath = []\n",
    "    for p in path:\n",
    "        #print(f\"p {p}\")\n",
    "        nnode = np.where(graph[p[-1]])[0]\n",
    "        #print(f\"n {nnode}\")\n",
    "        for n in nnode:\n",
    "            if n not in p:\n",
    "                npath.append(p.copy() + [n])\n",
    "        #        print(f\"new {p.copy() + [n]}\")\n",
    "    return npath"
   ]
  },
  {
   "cell_type": "code",
   "execution_count": null,
   "id": "82dfd1b0",
   "metadata": {},
   "outputs": [],
   "source": [
    "def findtraj(cur, graph):\n",
    "    npath = [[cur]]\n",
    "    path = []\n",
    "    while npath != path:\n",
    "        #print(path)\n",
    "        path = npath\n",
    "        npath = findpath(path)\n",
    "        for p in path:\n",
    "            if p[-1] == 0:\n",
    "                return p\n",
    "                break"
   ]
  },
  {
   "cell_type": "code",
   "execution_count": null,
   "id": "f4488187",
   "metadata": {},
   "outputs": [],
   "source": [
    "allsets = {vec(*t) for t in scanner[0]}\n",
    "for i in range(1, len(scanner)):\n",
    "    #print(f\"{i}:\")\n",
    "    tra = findtraj(i, graph)\n",
    "    x = scanner[i].copy()\n",
    "    #print(f\"path {tra}\")\n",
    "    for s, d in zip(tra[:-1] , tra[1:]):\n",
    "        #print(f\"{s}_{d}\")\n",
    "        x = maping[f\"{s}_{d}\"](x)\n",
    "    n = {vec(*t) for t in x}\n",
    "    allsets = allsets.union(n)\n",
    "    print(len(allsets))"
   ]
  },
  {
   "cell_type": "code",
   "execution_count": null,
   "id": "6b3ed727",
   "metadata": {},
   "outputs": [],
   "source": []
  }
 ],
 "metadata": {
  "kernelspec": {
   "display_name": "Python 3 (ipykernel)",
   "language": "python",
   "name": "python3"
  },
  "language_info": {
   "codemirror_mode": {
    "name": "ipython",
    "version": 3
   },
   "file_extension": ".py",
   "mimetype": "text/x-python",
   "name": "python",
   "nbconvert_exporter": "python",
   "pygments_lexer": "ipython3",
   "version": "3.8.10"
  }
 },
 "nbformat": 4,
 "nbformat_minor": 5
}
